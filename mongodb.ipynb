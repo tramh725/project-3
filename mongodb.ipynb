{
 "cells": [
  {
   "cell_type": "code",
   "execution_count": 39,
   "id": "3a001509",
   "metadata": {},
   "outputs": [],
   "source": [
    "from flask import Flask, render_template, jsonify, request, redirect\n",
    "from pymongo import MongoClient\n",
    "import csv"
   ]
  },
  {
   "cell_type": "code",
   "execution_count": 25,
   "id": "5841ade8",
   "metadata": {},
   "outputs": [],
   "source": [
    "mongo= MongoClient(port=27017)\n",
    "db=mongo.usdemo"
   ]
  },
  {
   "cell_type": "code",
   "execution_count": 28,
   "id": "eb766660",
   "metadata": {},
   "outputs": [
    {
     "data": {
      "text/plain": [
       "['county', 'age', 'states']"
      ]
     },
     "execution_count": 28,
     "metadata": {},
     "output_type": "execute_result"
    }
   ],
   "source": [
    "db.list_collection_names()"
   ]
  },
  {
   "cell_type": "code",
   "execution_count": 34,
   "id": "ba6e7c38",
   "metadata": {},
   "outputs": [],
   "source": [
    "data1=db['county']\n",
    "data2=db['age']\n",
    "data3=db['states']\n",
    "\n",
    "data1.drop()\n",
    "data2.drop()\n",
    "data3.drop()\n"
   ]
  },
  {
   "cell_type": "code",
   "execution_count": 35,
   "id": "93df0240",
   "metadata": {},
   "outputs": [],
   "source": [
    "county_path='static/csv_files/county_population.csv'\n",
    "age_path='static/csv_files/age_population.csv'\n",
    "state_path='static/csv_files/state_population.csv'"
   ]
  },
  {
   "cell_type": "code",
   "execution_count": 69,
   "id": "1f95836a",
   "metadata": {},
   "outputs": [],
   "source": [
    "county_data='county'\n",
    "age_data='age'\n",
    "state_data='states'"
   ]
  },
  {
   "cell_type": "code",
   "execution_count": 78,
   "id": "7bc3c6b0",
   "metadata": {},
   "outputs": [],
   "source": [
    "database_county = db[county_data]\n",
    "database_age=db[age_data]\n",
    "database_state=db[state_data]"
   ]
  },
  {
   "cell_type": "code",
   "execution_count": 79,
   "id": "d51e8932",
   "metadata": {},
   "outputs": [
    {
     "data": {
      "text/plain": [
       "{'_id': ObjectId('65554921d7b18ccd14304b17'),\n",
       " 'State': 'Alabama',\n",
       " 'County': 'Autauga County',\n",
       " 'Total Population': '55,036',\n",
       " 'Hispanic Men': '692',\n",
       " 'Hispanic Women': '766',\n",
       " 'White Men': '20,285',\n",
       " 'White Women': '21,214',\n",
       " 'Black Men': '5,104',\n",
       " 'Black Women': '5,304',\n",
       " 'Native Men': '84',\n",
       " 'Native Women': '88',\n",
       " 'Asian Men': '254',\n",
       " 'Asian Women': '256',\n",
       " 'Pacific Men': '6',\n",
       " 'Pacific Women': '7',\n",
       " 'Others': '976'}"
      ]
     },
     "execution_count": 79,
     "metadata": {},
     "output_type": "execute_result"
    }
   ],
   "source": [
    "with open(county_path) as file:\n",
    "    data = csv.DictReader(file,delimiter=',')\n",
    "    for item in data:\n",
    "        database_county.insert_one(item)\n",
    "\n",
    "database_county.find_one()"
   ]
  },
  {
   "cell_type": "code",
   "execution_count": 80,
   "id": "d0cdf555",
   "metadata": {},
   "outputs": [
    {
     "data": {
      "text/plain": [
       "{'_id': ObjectId('65554a3cd7b18ccd1430b98d'),\n",
       " 'State': 'Alabama',\n",
       " 'Total Population': '4,850,771',\n",
       " 'Over 18 Citizen': '3,651,914',\n",
       " 'Under 18 Citizen': '1,198,857'}"
      ]
     },
     "execution_count": 80,
     "metadata": {},
     "output_type": "execute_result"
    }
   ],
   "source": [
    "with open(age_path) as file:\n",
    "    data = csv.DictReader(file,delimiter=',')\n",
    "    for item in data:\n",
    "        database_age.insert_one(item)\n",
    "\n",
    "database_age.find_one()"
   ]
  },
  {
   "cell_type": "code",
   "execution_count": 81,
   "id": "738acfbf",
   "metadata": {},
   "outputs": [
    {
     "data": {
      "text/plain": [
       "{'_id': ObjectId('65554a91d7b18ccd1430b9c0'),\n",
       " 'State': 'Alabama',\n",
       " 'Total Population': '4,850,771',\n",
       " 'Hispanic Men': '96,686',\n",
       " 'Hispanic Women': '100,625',\n",
       " 'White Men': '1,560,421',\n",
       " 'White Women': '1,636,522',\n",
       " 'Black Men': '607,814',\n",
       " 'Black Women': '672,087',\n",
       " 'Native Men': '10,929',\n",
       " 'Native Women': '11,155',\n",
       " 'Asian Men': '29,693',\n",
       " 'Asian Women': '31,699',\n",
       " 'Pacific Men': '672',\n",
       " 'Pacific Women': '715',\n",
       " 'Others': '91,753'}"
      ]
     },
     "execution_count": 81,
     "metadata": {},
     "output_type": "execute_result"
    }
   ],
   "source": [
    "with open(state_path) as file:\n",
    "    data = csv.DictReader(file,delimiter=',')\n",
    "    for item in data:\n",
    "        database_state.insert_one(item)\n",
    "\n",
    "database_state.find_one()"
   ]
  },
  {
   "cell_type": "code",
   "execution_count": null,
   "id": "6a18119f",
   "metadata": {},
   "outputs": [],
   "source": []
  }
 ],
 "metadata": {
  "kernelspec": {
   "display_name": "Python 3 (ipykernel)",
   "language": "python",
   "name": "python3"
  },
  "language_info": {
   "codemirror_mode": {
    "name": "ipython",
    "version": 3
   },
   "file_extension": ".py",
   "mimetype": "text/x-python",
   "name": "python",
   "nbconvert_exporter": "python",
   "pygments_lexer": "ipython3",
   "version": "3.11.5"
  }
 },
 "nbformat": 4,
 "nbformat_minor": 5
}
